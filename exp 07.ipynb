{
 "cells": [
  {
   "cell_type": "code",
   "execution_count": null,
   "id": "e744c2f6-3cfb-410f-b669-b3b7113d7833",
   "metadata": {},
   "outputs": [],
   "source": [
    "import numpy as np\n",
    "import cv2\n",
    "import matplotlib.pyplot as plt\n",
    "\n",
    "gray = cv2.imread('me.jpg', cv2.IMREAD_GRAYSCALE)\n",
    "img_color = cv2.imread('me.jpg', cv2.IMREAD_COLOR)\n",
    "img_c = cv2.cvtColor(img_color, cv2.COLOR_BGR2RGB)\n",
    "gray_rgb = cv2.cvtColor(gray, cv2.COLOR_GRAY2RGB)\n",
    "\n",
    "gray = cv2.GaussianBlur(gray, (3, 3), 0)\n",
    "\n",
    "plt.figure(figsize=(13, 13))\n",
    "plt.subplot(1, 2, 1)\n",
    "plt.imshow(img_c)\n",
    "plt.title(\"Original Image\")\n",
    "plt.axis(\"off\")\n",
    "plt.subplot(1, 2, 2)\n",
    "plt.imshow(gray_rgb, cmap='gray')\n",
    "plt.title(\"Gray Image\")\n",
    "plt.axis(\"off\")\n",
    "plt.show()"
   ]
  },
  {
   "cell_type": "code",
   "execution_count": null,
   "id": "35daa127-f1ca-4103-bc71-82e23aeb72d3",
   "metadata": {},
   "outputs": [],
   "source": []
  }
 ],
 "metadata": {
  "kernelspec": {
   "display_name": "Python 3 (ipykernel)",
   "language": "python",
   "name": "python3"
  },
  "language_info": {
   "codemirror_mode": {
    "name": "ipython",
    "version": 3
   },
   "file_extension": ".py",
   "mimetype": "text/x-python",
   "name": "python",
   "nbconvert_exporter": "python",
   "pygments_lexer": "ipython3",
   "version": "3.11.13"
  }
 },
 "nbformat": 4,
 "nbformat_minor": 5
}
